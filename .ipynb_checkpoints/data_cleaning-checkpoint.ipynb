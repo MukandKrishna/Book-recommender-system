{
 "cells": [
  {
   "cell_type": "code",
   "execution_count": 3,
   "metadata": {
    "id": "ASeAuhhQxpma"
   },
   "outputs": [],
   "source": [
    "import pandas as pd\n",
    "\n",
    "# Load the CSV file\n",
    "df = pd.read_csv('Users.csv')\n",
    "\n",
    "# Remove rows with NaN values\n",
    "df = df.dropna()\n",
    "df = df.head(10000)\n",
    "\n",
    "# Save the cleaned data back to a CSV file\n",
    "df.to_csv('cleaned_users.csv', index=False)"
   ]
  },
  {
   "cell_type": "code",
   "execution_count": 7,
   "metadata": {
    "id": "9dRviPsnyPa-"
   },
   "outputs": [],
   "source": [
    "# Load the CSV files into pandas DataFrames\n",
    "users_df = pd.read_csv('cleaned_users.csv')\n",
    "ratings_df = pd.read_csv('Ratings.csv')\n",
    "ratings_df = ratings_df.dropna()\n",
    "\n",
    "# Perform a left join to keep only the rows from ratings_df where user_id is present in users_df\n",
    "cleaned_ratings_df = pd.merge(ratings_df, users_df[['User-ID']], on='User-ID', how='inner')\n",
    "\n",
    "# Save the cleaned data back to a CSV file\n",
    "cleaned_ratings_df.to_csv('cleaned_ratings.csv', index=False)\n"
   ]
  },
  {
   "cell_type": "code",
   "execution_count": 14,
   "metadata": {
    "colab": {
     "base_uri": "https://localhost:8080/"
    },
    "id": "NJY2-OG_2HjX",
    "outputId": "db4045f7-222a-4a6f-a02f-ddd4a75796e9"
   },
   "outputs": [
    {
     "name": "stderr",
     "output_type": "stream",
     "text": [
      "<ipython-input-14-7fe137ebb086>:1: DtypeWarning: Columns (3) have mixed types. Specify dtype option on import or set low_memory=False.\n",
      "  books_df = pd.read_csv('Books.csv')\n"
     ]
    }
   ],
   "source": [
    "books_df = pd.read_csv('Books.csv')\n",
    "ratings_df = pd.read_csv('cleaned_ratings.csv')\n",
    "\n",
    "# Function to clean and convert ISBN to integer\n",
    "def clean_isbn(isbn):\n",
    "    # Convert the input to string and filter only digits\n",
    "    clean_isbn = ''.join(filter(str.isdigit, str(isbn)))\n",
    "    # Return integer if conversion is possible, otherwise return None\n",
    "    return int(clean_isbn) if clean_isbn else None\n",
    "\n",
    "# Apply the clean_isbn function to the ISBN columns in both dataframes\n",
    "books_df['ISBN'] = books_df['ISBN'].apply(clean_isbn)\n",
    "ratings_df['ISBN'] = ratings_df['ISBN'].apply(clean_isbn)\n",
    "\n",
    "books_df = books_df.dropna(subset=['ISBN'])\n",
    "ratings_df = ratings_df.dropna(subset=['ISBN'])\n",
    "\n",
    "cleaned_books_df = pd.merge(books_df, ratings_df[['ISBN']], on='ISBN', how='inner')\n",
    "\n",
    "cleaned_books_df.to_csv('cleaned_books.csv', index=False)"
   ]
  },
  {
   "cell_type": "code",
   "execution_count": null,
   "metadata": {
    "id": "B3xiVFok3dJG"
   },
   "outputs": [],
   "source": []
  }
 ],
 "metadata": {
  "colab": {
   "provenance": []
  },
  "kernelspec": {
   "display_name": "Python 3 (ipykernel)",
   "language": "python",
   "name": "python3"
  },
  "language_info": {
   "codemirror_mode": {
    "name": "ipython",
    "version": 3
   },
   "file_extension": ".py",
   "mimetype": "text/x-python",
   "name": "python",
   "nbconvert_exporter": "python",
   "pygments_lexer": "ipython3",
   "version": "3.11.5"
  }
 },
 "nbformat": 4,
 "nbformat_minor": 1
}
